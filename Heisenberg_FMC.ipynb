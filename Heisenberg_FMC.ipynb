{
 "cells": [
  {
   "cell_type": "markdown",
   "id": "739df60a",
   "metadata": {},
   "source": [
    "# Heisenberg spin chain (with PBC)\n",
    "\n",
    "$$ H = -\\frac{1}{4}\\sum\\limits_{j=1}^N \\left( \\frac{J_j^x}{2} \\sigma_{j+1}^x\\sigma_j^x + \\frac{J_j^y}{2} \\sigma_{j+1}^y\\sigma_j^y + \\frac{J_j^z}{2} \\sigma_{j+1}^z\\sigma_j^z + h_j^x \\sigma_j^x + h_j^y \\sigma_j^y + h_j^z \\sigma_j^z \\right) $$ "
   ]
  },
  {
   "cell_type": "code",
   "execution_count": null,
   "id": "8bf4d95b",
   "metadata": {},
   "outputs": [],
   "source": [
    "# import libraries\n",
    "\n",
    "import matplotlib.pyplot as plt\n",
    "import numpy as np\n",
    "from qutip import *\n",
    "import seaborn as sns; sns.set_theme()\n",
    "\n",
    "plt.rcParams.update({\n",
    "\"text.usetex\": True,\n",
    "\"font.family\": \"sans-serif\",\n",
    "\"font.sans-serif\": [\"Helvetica\"], \"font.size\": 24})"
   ]
  }
 ],
 "metadata": {
  "kernelspec": {
   "display_name": "Python 3 (ipykernel)",
   "language": "python",
   "name": "python3"
  },
  "language_info": {
   "codemirror_mode": {
    "name": "ipython",
    "version": 3
   },
   "file_extension": ".py",
   "mimetype": "text/x-python",
   "name": "python",
   "nbconvert_exporter": "python",
   "pygments_lexer": "ipython3",
   "version": "3.9.7"
  }
 },
 "nbformat": 4,
 "nbformat_minor": 5
}
